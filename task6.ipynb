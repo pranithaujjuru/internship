{
 "cells": [
  {
   "cell_type": "code",
   "execution_count": 12,
   "id": "5ccf3525-e628-4d00-820a-3975c5146832",
   "metadata": {},
   "outputs": [
    {
     "name": "stdout",
     "output_type": "stream",
     "text": [
      "Collecting prophet\n",
      "  Downloading prophet-1.1.5-py3-none-win_amd64.whl.metadata (3.6 kB)\n",
      "Collecting cmdstanpy>=1.0.4 (from prophet)\n",
      "  Downloading cmdstanpy-1.2.3-py3-none-any.whl.metadata (4.1 kB)\n",
      "Requirement already satisfied: numpy>=1.15.4 in c:\\users\\pranitha\\appdata\\roaming\\python\\python311\\site-packages (from prophet) (1.24.3)\n",
      "Requirement already satisfied: matplotlib>=2.0.0 in c:\\users\\pranitha\\anaconda3\\lib\\site-packages (from prophet) (3.8.0)\n",
      "Requirement already satisfied: pandas>=1.0.4 in c:\\users\\pranitha\\anaconda3\\lib\\site-packages (from prophet) (2.1.4)\n",
      "Collecting holidays>=0.25 (from prophet)\n",
      "  Downloading holidays-0.50-py3-none-any.whl.metadata (23 kB)\n",
      "Requirement already satisfied: tqdm>=4.36.1 in c:\\users\\pranitha\\anaconda3\\lib\\site-packages (from prophet) (4.65.0)\n",
      "Collecting importlib-resources (from prophet)\n",
      "  Using cached importlib_resources-6.4.0-py3-none-any.whl.metadata (3.9 kB)\n",
      "Collecting stanio<2.0.0,>=0.4.0 (from cmdstanpy>=1.0.4->prophet)\n",
      "  Downloading stanio-0.5.0-py3-none-any.whl.metadata (1.3 kB)\n",
      "Requirement already satisfied: python-dateutil in c:\\users\\pranitha\\anaconda3\\lib\\site-packages (from holidays>=0.25->prophet) (2.8.2)\n",
      "Requirement already satisfied: contourpy>=1.0.1 in c:\\users\\pranitha\\anaconda3\\lib\\site-packages (from matplotlib>=2.0.0->prophet) (1.2.0)\n",
      "Requirement already satisfied: cycler>=0.10 in c:\\users\\pranitha\\anaconda3\\lib\\site-packages (from matplotlib>=2.0.0->prophet) (0.11.0)\n",
      "Requirement already satisfied: fonttools>=4.22.0 in c:\\users\\pranitha\\anaconda3\\lib\\site-packages (from matplotlib>=2.0.0->prophet) (4.25.0)\n",
      "Requirement already satisfied: kiwisolver>=1.0.1 in c:\\users\\pranitha\\anaconda3\\lib\\site-packages (from matplotlib>=2.0.0->prophet) (1.4.4)\n",
      "Requirement already satisfied: packaging>=20.0 in c:\\users\\pranitha\\anaconda3\\lib\\site-packages (from matplotlib>=2.0.0->prophet) (23.1)\n",
      "Requirement already satisfied: pillow>=6.2.0 in c:\\users\\pranitha\\anaconda3\\lib\\site-packages (from matplotlib>=2.0.0->prophet) (10.2.0)\n",
      "Requirement already satisfied: pyparsing>=2.3.1 in c:\\users\\pranitha\\anaconda3\\lib\\site-packages (from matplotlib>=2.0.0->prophet) (3.0.9)\n",
      "Requirement already satisfied: pytz>=2020.1 in c:\\users\\pranitha\\anaconda3\\lib\\site-packages (from pandas>=1.0.4->prophet) (2023.3.post1)\n",
      "Requirement already satisfied: tzdata>=2022.1 in c:\\users\\pranitha\\anaconda3\\lib\\site-packages (from pandas>=1.0.4->prophet) (2023.3)\n",
      "Requirement already satisfied: colorama in c:\\users\\pranitha\\anaconda3\\lib\\site-packages (from tqdm>=4.36.1->prophet) (0.4.6)\n",
      "Requirement already satisfied: six>=1.5 in c:\\users\\pranitha\\anaconda3\\lib\\site-packages (from python-dateutil->holidays>=0.25->prophet) (1.16.0)\n",
      "Downloading prophet-1.1.5-py3-none-win_amd64.whl (13.3 MB)\n",
      "   ---------------------------------------- 0.0/13.3 MB ? eta -:--:--\n",
      "   ---------------------------------------- 0.1/13.3 MB 2.0 MB/s eta 0:00:07\n",
      "   - -------------------------------------- 0.4/13.3 MB 5.3 MB/s eta 0:00:03\n",
      "   -- ------------------------------------- 0.8/13.3 MB 6.6 MB/s eta 0:00:02\n",
      "   --- ------------------------------------ 1.0/13.3 MB 5.9 MB/s eta 0:00:03\n",
      "   --- ------------------------------------ 1.2/13.3 MB 5.5 MB/s eta 0:00:03\n",
      "   --- ------------------------------------ 1.2/13.3 MB 5.3 MB/s eta 0:00:03\n",
      "   --- ------------------------------------ 1.2/13.3 MB 5.3 MB/s eta 0:00:03\n",
      "   --- ------------------------------------ 1.2/13.3 MB 3.5 MB/s eta 0:00:04\n",
      "   --- ------------------------------------ 1.3/13.3 MB 3.5 MB/s eta 0:00:04\n",
      "   ----- ---------------------------------- 1.7/13.3 MB 3.8 MB/s eta 0:00:04\n",
      "   ------ --------------------------------- 2.1/13.3 MB 4.1 MB/s eta 0:00:03\n",
      "   ------ --------------------------------- 2.3/13.3 MB 4.1 MB/s eta 0:00:03\n",
      "   ------- -------------------------------- 2.4/13.3 MB 4.1 MB/s eta 0:00:03\n",
      "   ------- -------------------------------- 2.6/13.3 MB 4.1 MB/s eta 0:00:03\n",
      "   -------- ------------------------------- 2.9/13.3 MB 4.0 MB/s eta 0:00:03\n",
      "   -------- ------------------------------- 2.9/13.3 MB 4.0 MB/s eta 0:00:03\n",
      "   -------- ------------------------------- 2.9/13.3 MB 4.0 MB/s eta 0:00:03\n",
      "   -------- ------------------------------- 2.9/13.3 MB 4.0 MB/s eta 0:00:03\n",
      "   --------- ------------------------------ 3.1/13.3 MB 3.5 MB/s eta 0:00:03\n",
      "   ---------- ----------------------------- 3.4/13.3 MB 3.6 MB/s eta 0:00:03\n",
      "   ---------- ----------------------------- 3.6/13.3 MB 3.6 MB/s eta 0:00:03\n",
      "   ----------- ---------------------------- 3.7/13.3 MB 3.6 MB/s eta 0:00:03\n",
      "   ----------- ---------------------------- 3.9/13.3 MB 3.6 MB/s eta 0:00:03\n",
      "   ------------ --------------------------- 4.1/13.3 MB 3.6 MB/s eta 0:00:03\n",
      "   ------------ --------------------------- 4.3/13.3 MB 3.7 MB/s eta 0:00:03\n",
      "   ------------- -------------------------- 4.4/13.3 MB 3.7 MB/s eta 0:00:03\n",
      "   ------------- -------------------------- 4.4/13.3 MB 3.7 MB/s eta 0:00:03\n",
      "   ------------- -------------------------- 4.4/13.3 MB 3.7 MB/s eta 0:00:03\n",
      "   -------------- ------------------------- 4.7/13.3 MB 3.5 MB/s eta 0:00:03\n",
      "   --------------- ------------------------ 5.2/13.3 MB 3.7 MB/s eta 0:00:03\n",
      "   ---------------- ----------------------- 5.3/13.3 MB 3.7 MB/s eta 0:00:03\n",
      "   ---------------- ----------------------- 5.5/13.3 MB 3.7 MB/s eta 0:00:03\n",
      "   ---------------- ----------------------- 5.6/13.3 MB 3.7 MB/s eta 0:00:03\n",
      "   ----------------- ---------------------- 5.8/13.3 MB 3.7 MB/s eta 0:00:03\n",
      "   ------------------ --------------------- 6.0/13.3 MB 3.7 MB/s eta 0:00:02\n",
      "   ------------------ --------------------- 6.2/13.3 MB 3.7 MB/s eta 0:00:02\n",
      "   ------------------ --------------------- 6.3/13.3 MB 3.7 MB/s eta 0:00:02\n",
      "   ------------------- -------------------- 6.5/13.3 MB 3.7 MB/s eta 0:00:02\n",
      "   ------------------- -------------------- 6.6/13.3 MB 3.7 MB/s eta 0:00:02\n",
      "   -------------------- ------------------- 6.8/13.3 MB 3.7 MB/s eta 0:00:02\n",
      "   -------------------- ------------------- 6.9/13.3 MB 3.7 MB/s eta 0:00:02\n",
      "   --------------------- ------------------ 7.1/13.3 MB 3.7 MB/s eta 0:00:02\n",
      "   --------------------- ------------------ 7.3/13.3 MB 3.7 MB/s eta 0:00:02\n",
      "   ---------------------- ----------------- 7.5/13.3 MB 3.7 MB/s eta 0:00:02\n",
      "   ---------------------- ----------------- 7.6/13.3 MB 3.7 MB/s eta 0:00:02\n",
      "   ----------------------- ---------------- 7.8/13.3 MB 3.7 MB/s eta 0:00:02\n",
      "   ------------------------ --------------- 8.0/13.3 MB 3.7 MB/s eta 0:00:02\n",
      "   ------------------------ --------------- 8.2/13.3 MB 3.7 MB/s eta 0:00:02\n",
      "   ------------------------- -------------- 8.4/13.3 MB 3.7 MB/s eta 0:00:02\n",
      "   ------------------------- -------------- 8.6/13.3 MB 3.7 MB/s eta 0:00:02\n",
      "   -------------------------- ------------- 8.7/13.3 MB 3.7 MB/s eta 0:00:02\n",
      "   -------------------------- ------------- 8.9/13.3 MB 3.7 MB/s eta 0:00:02\n",
      "   --------------------------- ------------ 9.1/13.3 MB 3.7 MB/s eta 0:00:02\n",
      "   --------------------------- ------------ 9.3/13.3 MB 3.7 MB/s eta 0:00:02\n",
      "   ---------------------------- ----------- 9.5/13.3 MB 3.7 MB/s eta 0:00:02\n",
      "   ---------------------------- ----------- 9.6/13.3 MB 3.7 MB/s eta 0:00:01\n",
      "   ----------------------------- ---------- 9.8/13.3 MB 3.7 MB/s eta 0:00:01\n",
      "   ----------------------------- ---------- 10.0/13.3 MB 3.7 MB/s eta 0:00:01\n",
      "   ------------------------------ --------- 10.1/13.3 MB 3.7 MB/s eta 0:00:01\n",
      "   ------------------------------ --------- 10.3/13.3 MB 3.8 MB/s eta 0:00:01\n",
      "   ------------------------------- -------- 10.5/13.3 MB 3.7 MB/s eta 0:00:01\n",
      "   -------------------------------- ------- 10.7/13.3 MB 3.7 MB/s eta 0:00:01\n",
      "   -------------------------------- ------- 10.8/13.3 MB 3.7 MB/s eta 0:00:01\n",
      "   --------------------------------- ------ 11.0/13.3 MB 3.6 MB/s eta 0:00:01\n",
      "   --------------------------------- ------ 11.2/13.3 MB 3.6 MB/s eta 0:00:01\n",
      "   ---------------------------------- ----- 11.4/13.3 MB 3.6 MB/s eta 0:00:01\n",
      "   ---------------------------------- ----- 11.5/13.3 MB 3.8 MB/s eta 0:00:01\n",
      "   ----------------------------------- ---- 11.7/13.3 MB 3.9 MB/s eta 0:00:01\n",
      "   ----------------------------------- ---- 11.9/13.3 MB 3.8 MB/s eta 0:00:01\n",
      "   ------------------------------------ --- 12.1/13.3 MB 3.7 MB/s eta 0:00:01\n",
      "   ------------------------------------ --- 12.3/13.3 MB 3.7 MB/s eta 0:00:01\n",
      "   ------------------------------------- -- 12.4/13.3 MB 3.7 MB/s eta 0:00:01\n",
      "   ------------------------------------- -- 12.6/13.3 MB 3.7 MB/s eta 0:00:01\n",
      "   -------------------------------------- - 12.7/13.3 MB 3.7 MB/s eta 0:00:01\n",
      "   -------------------------------------- - 12.9/13.3 MB 3.7 MB/s eta 0:00:01\n",
      "   ---------------------------------------  13.1/13.3 MB 3.7 MB/s eta 0:00:01\n",
      "   ---------------------------------------  13.3/13.3 MB 3.9 MB/s eta 0:00:01\n",
      "   ---------------------------------------- 13.3/13.3 MB 3.8 MB/s eta 0:00:00\n",
      "Downloading cmdstanpy-1.2.3-py3-none-any.whl (94 kB)\n",
      "   ---------------------------------------- 0.0/94.4 kB ? eta -:--:--\n",
      "   ---------------------------------------- 94.4/94.4 kB 5.6 MB/s eta 0:00:00\n",
      "Downloading holidays-0.50-py3-none-any.whl (1.0 MB)\n",
      "   ---------------------------------------- 0.0/1.0 MB ? eta -:--:--\n",
      "   -------------------- ------------------- 0.5/1.0 MB 17.2 MB/s eta 0:00:01\n",
      "   --------------------------- ------------ 0.7/1.0 MB 9.2 MB/s eta 0:00:01\n",
      "   ----------------------------------- ---- 0.9/1.0 MB 6.5 MB/s eta 0:00:01\n",
      "   ---------------------------------------- 1.0/1.0 MB 6.0 MB/s eta 0:00:00\n",
      "Using cached importlib_resources-6.4.0-py3-none-any.whl (38 kB)\n",
      "Downloading stanio-0.5.0-py3-none-any.whl (8.0 kB)\n",
      "Installing collected packages: stanio, importlib-resources, holidays, cmdstanpy, prophet\n",
      "Successfully installed cmdstanpy-1.2.3 holidays-0.50 importlib-resources-6.4.0 prophet-1.1.5 stanio-0.5.0\n"
     ]
    }
   ],
   "source": [
    "\n",
    "import pandas as pd\n",
    "import numpy as np\n",
    "!pip install prophet    "
   ]
  },
  {
   "cell_type": "code",
   "execution_count": 5,
   "id": "a28831b0-50ac-458e-a5cd-a60d3a02998f",
   "metadata": {},
   "outputs": [
    {
     "data": {
      "text/html": [
       "<div>\n",
       "<style scoped>\n",
       "    .dataframe tbody tr th:only-of-type {\n",
       "        vertical-align: middle;\n",
       "    }\n",
       "\n",
       "    .dataframe tbody tr th {\n",
       "        vertical-align: top;\n",
       "    }\n",
       "\n",
       "    .dataframe thead th {\n",
       "        text-align: right;\n",
       "    }\n",
       "</style>\n",
       "<table border=\"1\" class=\"dataframe\">\n",
       "  <thead>\n",
       "    <tr style=\"text-align: right;\">\n",
       "      <th></th>\n",
       "      <th>show_id</th>\n",
       "      <th>type</th>\n",
       "      <th>title</th>\n",
       "      <th>director</th>\n",
       "      <th>cast</th>\n",
       "      <th>country</th>\n",
       "      <th>date_added</th>\n",
       "      <th>release_year</th>\n",
       "      <th>rating</th>\n",
       "      <th>duration</th>\n",
       "      <th>listed_in</th>\n",
       "      <th>description</th>\n",
       "    </tr>\n",
       "  </thead>\n",
       "  <tbody>\n",
       "    <tr>\n",
       "      <th>0</th>\n",
       "      <td>s1</td>\n",
       "      <td>Movie</td>\n",
       "      <td>A Spark Story</td>\n",
       "      <td>Jason Sterman, Leanne Dare</td>\n",
       "      <td>Apthon Corbin, Louis Gonzales</td>\n",
       "      <td>NaN</td>\n",
       "      <td>September 24, 2021</td>\n",
       "      <td>2021</td>\n",
       "      <td>TV-PG</td>\n",
       "      <td>88 min</td>\n",
       "      <td>Documentary</td>\n",
       "      <td>Two Pixar filmmakers strive to bring their uni...</td>\n",
       "    </tr>\n",
       "    <tr>\n",
       "      <th>1</th>\n",
       "      <td>s2</td>\n",
       "      <td>Movie</td>\n",
       "      <td>Spooky Buddies</td>\n",
       "      <td>Robert Vince</td>\n",
       "      <td>Tucker Albrizzi, Diedrich Bader, Ameko Eks Mas...</td>\n",
       "      <td>United States, Canada</td>\n",
       "      <td>September 24, 2021</td>\n",
       "      <td>2011</td>\n",
       "      <td>G</td>\n",
       "      <td>93 min</td>\n",
       "      <td>Comedy, Fantasy, Kids</td>\n",
       "      <td>The puppies go on a spooky adventure through a...</td>\n",
       "    </tr>\n",
       "    <tr>\n",
       "      <th>2</th>\n",
       "      <td>s3</td>\n",
       "      <td>Movie</td>\n",
       "      <td>The Fault in Our Stars</td>\n",
       "      <td>Josh Boone</td>\n",
       "      <td>Shailene Woodley, Ansel Elgort, Laura Dern, Sa...</td>\n",
       "      <td>United States</td>\n",
       "      <td>September 24, 2021</td>\n",
       "      <td>2014</td>\n",
       "      <td>PG-13</td>\n",
       "      <td>127 min</td>\n",
       "      <td>Coming of Age, Drama, Romance</td>\n",
       "      <td>Hazel and Gus share a love that sweeps them on...</td>\n",
       "    </tr>\n",
       "    <tr>\n",
       "      <th>3</th>\n",
       "      <td>s4</td>\n",
       "      <td>TV Show</td>\n",
       "      <td>Dog: Impossible</td>\n",
       "      <td>NaN</td>\n",
       "      <td>Matt Beisner</td>\n",
       "      <td>United States</td>\n",
       "      <td>September 22, 2021</td>\n",
       "      <td>2019</td>\n",
       "      <td>TV-PG</td>\n",
       "      <td>2 Seasons</td>\n",
       "      <td>Animals &amp; Nature, Docuseries, Family</td>\n",
       "      <td>Matt Beisner uses unique approaches to modifyi...</td>\n",
       "    </tr>\n",
       "    <tr>\n",
       "      <th>4</th>\n",
       "      <td>s5</td>\n",
       "      <td>TV Show</td>\n",
       "      <td>Spidey And His Amazing Friends</td>\n",
       "      <td>NaN</td>\n",
       "      <td>Benjamin Valic, Lily Sanfelippo, Jakari Fraser...</td>\n",
       "      <td>United States</td>\n",
       "      <td>September 22, 2021</td>\n",
       "      <td>2021</td>\n",
       "      <td>TV-Y</td>\n",
       "      <td>1 Season</td>\n",
       "      <td>Action-Adventure, Animation, Kids</td>\n",
       "      <td>Spidey teams up with pals to become The Spidey...</td>\n",
       "    </tr>\n",
       "  </tbody>\n",
       "</table>\n",
       "</div>"
      ],
      "text/plain": [
       "  show_id     type                           title  \\\n",
       "0      s1    Movie                   A Spark Story   \n",
       "1      s2    Movie                  Spooky Buddies   \n",
       "2      s3    Movie          The Fault in Our Stars   \n",
       "3      s4  TV Show                 Dog: Impossible   \n",
       "4      s5  TV Show  Spidey And His Amazing Friends   \n",
       "\n",
       "                     director  \\\n",
       "0  Jason Sterman, Leanne Dare   \n",
       "1                Robert Vince   \n",
       "2                  Josh Boone   \n",
       "3                         NaN   \n",
       "4                         NaN   \n",
       "\n",
       "                                                cast                country  \\\n",
       "0                      Apthon Corbin, Louis Gonzales                    NaN   \n",
       "1  Tucker Albrizzi, Diedrich Bader, Ameko Eks Mas...  United States, Canada   \n",
       "2  Shailene Woodley, Ansel Elgort, Laura Dern, Sa...          United States   \n",
       "3                                       Matt Beisner          United States   \n",
       "4  Benjamin Valic, Lily Sanfelippo, Jakari Fraser...          United States   \n",
       "\n",
       "           date_added  release_year rating   duration  \\\n",
       "0  September 24, 2021          2021  TV-PG     88 min   \n",
       "1  September 24, 2021          2011      G     93 min   \n",
       "2  September 24, 2021          2014  PG-13    127 min   \n",
       "3  September 22, 2021          2019  TV-PG  2 Seasons   \n",
       "4  September 22, 2021          2021   TV-Y   1 Season   \n",
       "\n",
       "                              listed_in  \\\n",
       "0                           Documentary   \n",
       "1                 Comedy, Fantasy, Kids   \n",
       "2         Coming of Age, Drama, Romance   \n",
       "3  Animals & Nature, Docuseries, Family   \n",
       "4     Action-Adventure, Animation, Kids   \n",
       "\n",
       "                                         description  \n",
       "0  Two Pixar filmmakers strive to bring their uni...  \n",
       "1  The puppies go on a spooky adventure through a...  \n",
       "2  Hazel and Gus share a love that sweeps them on...  \n",
       "3  Matt Beisner uses unique approaches to modifyi...  \n",
       "4  Spidey teams up with pals to become The Spidey...  "
      ]
     },
     "execution_count": 5,
     "metadata": {},
     "output_type": "execute_result"
    }
   ],
   "source": [
    "df=pd.read_csv(\"disney_plus_titles.csv\")\n",
    "df.head()"
   ]
  },
  {
   "cell_type": "code",
   "execution_count": 6,
   "id": "962d02c9-3e24-4a6a-ab14-2efbeafc6db5",
   "metadata": {},
   "outputs": [
    {
     "data": {
      "text/plain": [
       "(1368, 12)"
      ]
     },
     "execution_count": 6,
     "metadata": {},
     "output_type": "execute_result"
    }
   ],
   "source": [
    "df.shape"
   ]
  },
  {
   "cell_type": "code",
   "execution_count": 7,
   "id": "b38563a9-8300-45a8-b9a3-373f82952d27",
   "metadata": {},
   "outputs": [
    {
     "data": {
      "text/plain": [
       "show_id           0\n",
       "type              0\n",
       "title             0\n",
       "director        440\n",
       "cast            174\n",
       "country         175\n",
       "date_added        3\n",
       "release_year      0\n",
       "rating            2\n",
       "duration          0\n",
       "listed_in         0\n",
       "description       0\n",
       "dtype: int64"
      ]
     },
     "execution_count": 7,
     "metadata": {},
     "output_type": "execute_result"
    }
   ],
   "source": [
    "df.isnull().sum()"
   ]
  },
  {
   "cell_type": "code",
   "execution_count": 8,
   "id": "a7ddb3d0-ff3b-489a-969d-3677374cb3bf",
   "metadata": {},
   "outputs": [
    {
     "name": "stdout",
     "output_type": "stream",
     "text": [
      "  show_id  type  title  director  cast  country  date_added  release_year  \\\n",
      "0      s1     0     17       242    60       87         145          2021   \n",
      "1      s2     0    980       459  1072       48         145          2011   \n",
      "2      s3     0   1085       290   952       43         145          2014   \n",
      "3      s4     1    316       549   713       43         144          2019   \n",
      "4      s5     1    978       549    88       43         144          2021   \n",
      "\n",
      "   rating  duration  listed_in  description  \n",
      "0       5       142        254         1242  \n",
      "1       0       149        212         1156  \n",
      "2       2        32        233          652  \n",
      "3       5        70         85          828  \n",
      "4       6         0         14         1046  \n"
     ]
    }
   ],
   "source": [
    "df['director'].fillna('Unknown', inplace=True)\n",
    "df['cast'].fillna('Unknown', inplace=True)\n",
    "df['country'].fillna('Unknown', inplace=True)\n",
    "df['rating'].fillna('Unknown', inplace=True)\n",
    "df['date_added'].fillna('Unknown', inplace=True)\n",
    "from sklearn.preprocessing import LabelEncoder\n",
    "label_encoders = {}\n",
    "categorical_columns = ['type', 'title', 'director', 'cast', 'country', 'date_added', 'rating', 'duration', 'listed_in', 'description']\n",
    "\n",
    "for col in categorical_columns:\n",
    "    le = LabelEncoder()\n",
    "    df[col] = le.fit_transform(df[col])\n",
    "    label_encoders[col] = le\n",
    "\n",
    "print(df.head())"
   ]
  },
  {
   "cell_type": "code",
   "execution_count": 9,
   "id": "fe72c58e-45a3-4fee-be4f-e32c4a0e7fff",
   "metadata": {},
   "outputs": [
    {
     "data": {
      "text/plain": [
       "(1368, 12)"
      ]
     },
     "execution_count": 9,
     "metadata": {},
     "output_type": "execute_result"
    }
   ],
   "source": [
    "df.shape"
   ]
  },
  {
   "cell_type": "code",
   "execution_count": 10,
   "id": "4bd2f88a-3e8e-403a-a24c-da10cbc2c8a1",
   "metadata": {},
   "outputs": [],
   "source": [
    "df1=df"
   ]
  },
  {
   "cell_type": "code",
   "execution_count": 13,
   "id": "484a5143-a480-4cc6-8afc-ebf602c23314",
   "metadata": {},
   "outputs": [],
   "source": [
    "import pandas as pd\n",
    "from prophet import Prophet\n",
    "import matplotlib.pyplot as plt"
   ]
  },
  {
   "cell_type": "code",
   "execution_count": 14,
   "id": "7dd0868f-1e36-4074-ad50-da66610f8f15",
   "metadata": {},
   "outputs": [
    {
     "name": "stderr",
     "output_type": "stream",
     "text": [
      "20:59:30 - cmdstanpy - INFO - Chain [1] start processing\n",
      "20:59:32 - cmdstanpy - INFO - Chain [1] done processing\n",
      "C:\\Users\\pranitha\\anaconda3\\Lib\\site-packages\\prophet\\plot.py:72: FutureWarning: The behavior of DatetimeProperties.to_pydatetime is deprecated, in a future version this will return a Series containing python datetime objects instead of an ndarray. To retain the old behavior, call `np.array` on the result\n",
      "  fcst_t = fcst['ds'].dt.to_pydatetime()\n",
      "C:\\Users\\pranitha\\anaconda3\\Lib\\site-packages\\prophet\\plot.py:73: FutureWarning: The behavior of DatetimeProperties.to_pydatetime is deprecated, in a future version this will return a Series containing python datetime objects instead of an ndarray. To retain the old behavior, call `np.array` on the result\n",
      "  ax.plot(m.history['ds'].dt.to_pydatetime(), m.history['y'], 'k.',\n"
     ]
    },
    {
     "data": {
      "image/png": "[encoded data removed]",
      "text/plain": [
       "<Figure size 1000x600 with 1 Axes>"
      ]
     },
     "metadata": {},
     "output_type": "display_data"
    },
    {
     "name": "stderr",
     "output_type": "stream",
     "text": [
      "C:\\Users\\pranitha\\anaconda3\\Lib\\site-packages\\prophet\\plot.py:228: FutureWarning: The behavior of DatetimeProperties.to_pydatetime is deprecated, in a future version this will return a Series containing python datetime objects instead of an ndarray. To retain the old behavior, call `np.array` on the result\n",
      "  fcst_t = fcst['ds'].dt.to_pydatetime()\n"
     ]
    },
    {
     "data": {
      "image/png": "[encoded data removed]",
      "text/plain": [
       "<Figure size 900x300 with 1 Axes>"
      ]
     },
     "metadata": {},
     "output_type": "display_data"
    }
   ],
   "source": [
    "df['date_added'] = pd.to_datetime(df['date_added'])\n",
    "df['count'] = 1\n",
    "df = df.groupby('date_added').count().reset_index()\n",
    "df = df.rename(columns={'date_added': 'ds', 'count': 'y'})\n",
    "model = Prophet()\n",
    "model.fit(df)\n",
    "future = model.make_future_dataframe(periods=365)  # Forecast for 1 year\n",
    "forecast = model.predict(future)\n",
    "fig = model.plot(forecast)\n",
    "plt.title(\"Time Series Forecasting\")\n",
    "plt.xlabel(\"Date\")\n",
    "plt.ylabel(\"Count of Shows Added\")\n",
    "plt.show()\n",
    "fig2 = model.plot_components(forecast)\n",
    "plt.show()\n",
    "     "
   ]
  },
  {
   "cell_type": "code",
   "execution_count": 15,
   "id": "ff370a9c-93d3-4ffd-868c-111d3363f95d",
   "metadata": {},
   "outputs": [
    {
     "name": "stdout",
     "output_type": "stream",
     "text": [
      "Requirement already satisfied: pandas in c:\\users\\pranitha\\anaconda3\\lib\\site-packages (2.1.4)\n",
      "Requirement already satisfied: nltk in c:\\users\\pranitha\\anaconda3\\lib\\site-packages (3.8.1)\n",
      "Collecting vaderSentiment\n",
      "  Downloading vaderSentiment-3.3.2-py2.py3-none-any.whl.metadata (572 bytes)\n",
      "Requirement already satisfied: numpy<2,>=1.23.2 in c:\\users\\pranitha\\appdata\\roaming\\python\\python311\\site-packages (from pandas) (1.24.3)\n",
      "Requirement already satisfied: python-dateutil>=2.8.2 in c:\\users\\pranitha\\anaconda3\\lib\\site-packages (from pandas) (2.8.2)\n",
      "Requirement already satisfied: pytz>=2020.1 in c:\\users\\pranitha\\anaconda3\\lib\\site-packages (from pandas) (2023.3.post1)\n",
      "Requirement already satisfied: tzdata>=2022.1 in c:\\users\\pranitha\\anaconda3\\lib\\site-packages (from pandas) (2023.3)\n",
      "Requirement already satisfied: click in c:\\users\\pranitha\\anaconda3\\lib\\site-packages (from nltk) (8.1.7)\n",
      "Requirement already satisfied: joblib in c:\\users\\pranitha\\anaconda3\\lib\\site-packages (from nltk) (1.2.0)\n",
      "Requirement already satisfied: regex>=2021.8.3 in c:\\users\\pranitha\\anaconda3\\lib\\site-packages (from nltk) (2023.10.3)\n",
      "Requirement already satisfied: tqdm in c:\\users\\pranitha\\anaconda3\\lib\\site-packages (from nltk) (4.65.0)\n",
      "Requirement already satisfied: requests in c:\\users\\pranitha\\anaconda3\\lib\\site-packages (from vaderSentiment) (2.31.0)\n",
      "Requirement already satisfied: six>=1.5 in c:\\users\\pranitha\\anaconda3\\lib\\site-packages (from python-dateutil>=2.8.2->pandas) (1.16.0)\n",
      "Requirement already satisfied: colorama in c:\\users\\pranitha\\anaconda3\\lib\\site-packages (from click->nltk) (0.4.6)\n",
      "Requirement already satisfied: charset-normalizer<4,>=2 in c:\\users\\pranitha\\anaconda3\\lib\\site-packages (from requests->vaderSentiment) (2.0.4)\n",
      "Requirement already satisfied: idna<4,>=2.5 in c:\\users\\pranitha\\anaconda3\\lib\\site-packages (from requests->vaderSentiment) (3.4)\n",
      "Requirement already satisfied: urllib3<3,>=1.21.1 in c:\\users\\pranitha\\anaconda3\\lib\\site-packages (from requests->vaderSentiment) (2.0.7)\n",
      "Requirement already satisfied: certifi>=2017.4.17 in c:\\users\\pranitha\\anaconda3\\lib\\site-packages (from requests->vaderSentiment) (2024.2.2)\n",
      "Downloading vaderSentiment-3.3.2-py2.py3-none-any.whl (125 kB)\n",
      "   ---------------------------------------- 0.0/126.0 kB ? eta -:--:--\n",
      "   ------ -------------------------------- 20.5/126.0 kB 330.3 kB/s eta 0:00:01\n",
      "   ------------------- ------------------- 61.4/126.0 kB 544.7 kB/s eta 0:00:01\n",
      "   -------------------------------------- 126.0/126.0 kB 925.7 kB/s eta 0:00:00\n",
      "Installing collected packages: vaderSentiment\n",
      "Successfully installed vaderSentiment-3.3.2\n"
     ]
    }
   ],
   "source": [
    "!pip install pandas nltk vaderSentiment"
   ]
  },
  {
   "cell_type": "code",
   "execution_count": 16,
   "id": "b1936745-17b1-444d-af6e-b0e6a604987a",
   "metadata": {},
   "outputs": [],
   "source": [
    "import pandas as pd\n",
    "import nltk\n",
    "from vaderSentiment.vaderSentiment import SentimentIntensityAnalyzer"
   ]
  },
  {
   "cell_type": "code",
   "execution_count": 19,
   "id": "ae652bf0-b818-4ca2-826f-00ed3044c4d2",
   "metadata": {},
   "outputs": [
    {
     "name": "stderr",
     "output_type": "stream",
     "text": [
      "[nltk_data] Downloading package vader_lexicon to\n",
      "[nltk_data]     C:\\Users\\pranitha\\AppData\\Roaming\\nltk_data...\n"
     ]
    },
    {
     "name": "stdout",
     "output_type": "stream",
     "text": [
      "                                            description  sentiment  \\\n",
      "0     Two Pixar filmmakers strive to bring their uni...     0.2263   \n",
      "1     The puppies go on a spooky adventure through a...    -0.2023   \n",
      "2     Hazel and Gus share a love that sweeps them on...     0.7506   \n",
      "3     Matt Beisner uses unique approaches to modifyi...     0.0000   \n",
      "4     Spidey teams up with pals to become The Spidey...     0.0000   \n",
      "...                                                 ...        ...   \n",
      "1363  Merlin trains a young orphan who's destined to...     0.0000   \n",
      "1364  A strong-willed family struggles to establish ...    -0.3612   \n",
      "1365   Welcome to Kirby's world! It's rude and sketchy.     0.0000   \n",
      "1366  Ryan discovers his ability to control a giant ...     0.3182   \n",
      "1367  Rock out with the Imagination Movers, Disney J...     0.5093   \n",
      "\n",
      "     sentiment_class  \n",
      "0           positive  \n",
      "1           negative  \n",
      "2           positive  \n",
      "3            neutral  \n",
      "4            neutral  \n",
      "...              ...  \n",
      "1363         neutral  \n",
      "1364        negative  \n",
      "1365         neutral  \n",
      "1366        positive  \n",
      "1367        positive  \n",
      "\n",
      "[1368 rows x 3 columns]\n"
     ]
    }
   ],
   "source": [
    "df=pd.read_csv(\"disney_plus_titles.csv\")\n",
    "nltk.download('vader_lexicon')\n",
    "analyzer = SentimentIntensityAnalyzer()\n",
    "df['sentiment'] = df['description'].apply(lambda x: analyzer.polarity_scores(x)['compound'])\n",
    "df['sentiment_class'] = df['sentiment'].apply(lambda x: 'positive' if x > 0.05 else ('negative' if x < -0.05 else 'neutral'))\n",
    "print(df[['description', 'sentiment', 'sentiment_class']])\n",
    "     "
   ]
  },
  {
   "cell_type": "code",
   "execution_count": 20,
   "id": "ccb0f4b5-e465-4291-a3d5-a20fe85b9f83",
   "metadata": {},
   "outputs": [],
   "source": [
    "from sklearn.cluster import KMeans\n",
    "from sklearn.ensemble import RandomForestClassifier\n",
    "from sklearn.model_selection import train_test_split\n",
    "from sklearn.metrics import accuracy_score"
   ]
  },
  {
   "cell_type": "code",
   "execution_count": 22,
   "id": "cf169580-2627-46fc-9039-71c8969c60e6",
   "metadata": {},
   "outputs": [
    {
     "name": "stderr",
     "output_type": "stream",
     "text": [
      "C:\\Users\\pranitha\\anaconda3\\Lib\\site-packages\\sklearn\\cluster\\_kmeans.py:870: FutureWarning: The default value of `n_init` will change from 10 to 'auto' in 1.4. Set the value of `n_init` explicitly to suppress the warning\n",
      "  warnings.warn(\n"
     ]
    },
    {
     "ename": "AttributeError",
     "evalue": "'NoneType' object has no attribute 'split'",
     "output_type": "error",
     "traceback": [
      "\u001b[1;31m---------------------------------------------------------------------------\u001b[0m",
      "\u001b[1;31mAttributeError\u001b[0m                            Traceback (most recent call last)",
      "Cell \u001b[1;32mIn[22], line 10\u001b[0m\n\u001b[0;32m      8\u001b[0m     label_encoders[col] \u001b[38;5;241m=\u001b[39m le\n\u001b[0;32m      9\u001b[0m kmeans \u001b[38;5;241m=\u001b[39m KMeans(n_clusters\u001b[38;5;241m=\u001b[39m\u001b[38;5;241m3\u001b[39m, random_state\u001b[38;5;241m=\u001b[39m\u001b[38;5;241m42\u001b[39m)\n\u001b[1;32m---> 10\u001b[0m df[\u001b[38;5;124m'\u001b[39m\u001b[38;5;124mcluster\u001b[39m\u001b[38;5;124m'\u001b[39m] \u001b[38;5;241m=\u001b[39m kmeans\u001b[38;5;241m.\u001b[39mfit_predict(df[categorical_columns])\n\u001b[0;32m     11\u001b[0m \u001b[38;5;28mprint\u001b[39m(\u001b[38;5;124m\"\u001b[39m\u001b[38;5;124mK-means Clustering:\u001b[39m\u001b[38;5;124m\"\u001b[39m)\n\u001b[0;32m     12\u001b[0m \u001b[38;5;28mprint\u001b[39m(df[[\u001b[38;5;124m'\u001b[39m\u001b[38;5;124mshow_id\u001b[39m\u001b[38;5;124m'\u001b[39m, \u001b[38;5;124m'\u001b[39m\u001b[38;5;124mcluster\u001b[39m\u001b[38;5;124m'\u001b[39m]])\n",
      "File \u001b[1;32m~\\anaconda3\\Lib\\site-packages\\sklearn\\cluster\\_kmeans.py:1033\u001b[0m, in \u001b[0;36m_BaseKMeans.fit_predict\u001b[1;34m(self, X, y, sample_weight)\u001b[0m\n\u001b[0;32m   1010\u001b[0m \u001b[38;5;28;01mdef\u001b[39;00m \u001b[38;5;21mfit_predict\u001b[39m(\u001b[38;5;28mself\u001b[39m, X, y\u001b[38;5;241m=\u001b[39m\u001b[38;5;28;01mNone\u001b[39;00m, sample_weight\u001b[38;5;241m=\u001b[39m\u001b[38;5;28;01mNone\u001b[39;00m):\n\u001b[0;32m   1011\u001b[0m \u001b[38;5;250m    \u001b[39m\u001b[38;5;124;03m\"\"\"Compute cluster centers and predict cluster index for each sample.\u001b[39;00m\n\u001b[0;32m   1012\u001b[0m \n\u001b[0;32m   1013\u001b[0m \u001b[38;5;124;03m    Convenience method; equivalent to calling fit(X) followed by\u001b[39;00m\n\u001b[1;32m   (...)\u001b[0m\n\u001b[0;32m   1031\u001b[0m \u001b[38;5;124;03m        Index of the cluster each sample belongs to.\u001b[39;00m\n\u001b[0;32m   1032\u001b[0m \u001b[38;5;124;03m    \"\"\"\u001b[39;00m\n\u001b[1;32m-> 1033\u001b[0m     \u001b[38;5;28;01mreturn\u001b[39;00m \u001b[38;5;28mself\u001b[39m\u001b[38;5;241m.\u001b[39mfit(X, sample_weight\u001b[38;5;241m=\u001b[39msample_weight)\u001b[38;5;241m.\u001b[39mlabels_\n",
      "File \u001b[1;32m~\\anaconda3\\Lib\\site-packages\\sklearn\\cluster\\_kmeans.py:1455\u001b[0m, in \u001b[0;36mKMeans.fit\u001b[1;34m(self, X, y, sample_weight)\u001b[0m\n\u001b[0;32m   1453\u001b[0m \u001b[38;5;28;01melse\u001b[39;00m:\n\u001b[0;32m   1454\u001b[0m     kmeans_single \u001b[38;5;241m=\u001b[39m _kmeans_single_lloyd\n\u001b[1;32m-> 1455\u001b[0m     \u001b[38;5;28mself\u001b[39m\u001b[38;5;241m.\u001b[39m_check_mkl_vcomp(X, X\u001b[38;5;241m.\u001b[39mshape[\u001b[38;5;241m0\u001b[39m])\n\u001b[0;32m   1457\u001b[0m best_inertia, best_labels \u001b[38;5;241m=\u001b[39m \u001b[38;5;28;01mNone\u001b[39;00m, \u001b[38;5;28;01mNone\u001b[39;00m\n\u001b[0;32m   1459\u001b[0m \u001b[38;5;28;01mfor\u001b[39;00m i \u001b[38;5;129;01min\u001b[39;00m \u001b[38;5;28mrange\u001b[39m(\u001b[38;5;28mself\u001b[39m\u001b[38;5;241m.\u001b[39m_n_init):\n\u001b[0;32m   1460\u001b[0m     \u001b[38;5;66;03m# Initialize centers\u001b[39;00m\n",
      "File \u001b[1;32m~\\anaconda3\\Lib\\site-packages\\sklearn\\cluster\\_kmeans.py:911\u001b[0m, in \u001b[0;36m_BaseKMeans._check_mkl_vcomp\u001b[1;34m(self, X, n_samples)\u001b[0m\n\u001b[0;32m    909\u001b[0m n_active_threads \u001b[38;5;241m=\u001b[39m \u001b[38;5;28mint\u001b[39m(np\u001b[38;5;241m.\u001b[39mceil(n_samples \u001b[38;5;241m/\u001b[39m CHUNK_SIZE))\n\u001b[0;32m    910\u001b[0m \u001b[38;5;28;01mif\u001b[39;00m n_active_threads \u001b[38;5;241m<\u001b[39m \u001b[38;5;28mself\u001b[39m\u001b[38;5;241m.\u001b[39m_n_threads:\n\u001b[1;32m--> 911\u001b[0m     modules \u001b[38;5;241m=\u001b[39m threadpool_info()\n\u001b[0;32m    912\u001b[0m     has_vcomp \u001b[38;5;241m=\u001b[39m \u001b[38;5;124m\"\u001b[39m\u001b[38;5;124mvcomp\u001b[39m\u001b[38;5;124m\"\u001b[39m \u001b[38;5;129;01min\u001b[39;00m [module[\u001b[38;5;124m\"\u001b[39m\u001b[38;5;124mprefix\u001b[39m\u001b[38;5;124m\"\u001b[39m] \u001b[38;5;28;01mfor\u001b[39;00m module \u001b[38;5;129;01min\u001b[39;00m modules]\n\u001b[0;32m    913\u001b[0m     has_mkl \u001b[38;5;241m=\u001b[39m (\u001b[38;5;124m\"\u001b[39m\u001b[38;5;124mmkl\u001b[39m\u001b[38;5;124m\"\u001b[39m, \u001b[38;5;124m\"\u001b[39m\u001b[38;5;124mintel\u001b[39m\u001b[38;5;124m\"\u001b[39m) \u001b[38;5;129;01min\u001b[39;00m [\n\u001b[0;32m    914\u001b[0m         (module[\u001b[38;5;124m\"\u001b[39m\u001b[38;5;124minternal_api\u001b[39m\u001b[38;5;124m\"\u001b[39m], module\u001b[38;5;241m.\u001b[39mget(\u001b[38;5;124m\"\u001b[39m\u001b[38;5;124mthreading_layer\u001b[39m\u001b[38;5;124m\"\u001b[39m, \u001b[38;5;28;01mNone\u001b[39;00m))\n\u001b[0;32m    915\u001b[0m         \u001b[38;5;28;01mfor\u001b[39;00m module \u001b[38;5;129;01min\u001b[39;00m modules\n\u001b[0;32m    916\u001b[0m     ]\n",
      "File \u001b[1;32m~\\anaconda3\\Lib\\site-packages\\sklearn\\utils\\fixes.py:150\u001b[0m, in \u001b[0;36mthreadpool_info\u001b[1;34m()\u001b[0m\n\u001b[0;32m    148\u001b[0m     \u001b[38;5;28;01mreturn\u001b[39;00m controller\u001b[38;5;241m.\u001b[39minfo()\n\u001b[0;32m    149\u001b[0m \u001b[38;5;28;01melse\u001b[39;00m:\n\u001b[1;32m--> 150\u001b[0m     \u001b[38;5;28;01mreturn\u001b[39;00m threadpoolctl\u001b[38;5;241m.\u001b[39mthreadpool_info()\n",
      "File \u001b[1;32m~\\anaconda3\\Lib\\site-packages\\threadpoolctl.py:124\u001b[0m, in \u001b[0;36mthreadpool_info\u001b[1;34m()\u001b[0m\n\u001b[0;32m    107\u001b[0m \u001b[38;5;129m@_format_docstring\u001b[39m(USER_APIS\u001b[38;5;241m=\u001b[39m\u001b[38;5;28mlist\u001b[39m(_ALL_USER_APIS),\n\u001b[0;32m    108\u001b[0m                    INTERNAL_APIS\u001b[38;5;241m=\u001b[39m_ALL_INTERNAL_APIS)\n\u001b[0;32m    109\u001b[0m \u001b[38;5;28;01mdef\u001b[39;00m \u001b[38;5;21mthreadpool_info\u001b[39m():\n\u001b[0;32m    110\u001b[0m \u001b[38;5;250m    \u001b[39m\u001b[38;5;124;03m\"\"\"Return the maximal number of threads for each detected library.\u001b[39;00m\n\u001b[0;32m    111\u001b[0m \n\u001b[0;32m    112\u001b[0m \u001b[38;5;124;03m    Return a list with all the supported modules that have been found. Each\u001b[39;00m\n\u001b[1;32m   (...)\u001b[0m\n\u001b[0;32m    122\u001b[0m \u001b[38;5;124;03m    In addition, each module may contain internal_api specific entries.\u001b[39;00m\n\u001b[0;32m    123\u001b[0m \u001b[38;5;124;03m    \"\"\"\u001b[39;00m\n\u001b[1;32m--> 124\u001b[0m     \u001b[38;5;28;01mreturn\u001b[39;00m _ThreadpoolInfo(user_api\u001b[38;5;241m=\u001b[39m_ALL_USER_APIS)\u001b[38;5;241m.\u001b[39mtodicts()\n",
      "File \u001b[1;32m~\\anaconda3\\Lib\\site-packages\\threadpoolctl.py:340\u001b[0m, in \u001b[0;36m_ThreadpoolInfo.__init__\u001b[1;34m(self, user_api, prefixes, modules)\u001b[0m\n\u001b[0;32m    337\u001b[0m     \u001b[38;5;28mself\u001b[39m\u001b[38;5;241m.\u001b[39muser_api \u001b[38;5;241m=\u001b[39m [] \u001b[38;5;28;01mif\u001b[39;00m user_api \u001b[38;5;129;01mis\u001b[39;00m \u001b[38;5;28;01mNone\u001b[39;00m \u001b[38;5;28;01melse\u001b[39;00m user_api\n\u001b[0;32m    339\u001b[0m     \u001b[38;5;28mself\u001b[39m\u001b[38;5;241m.\u001b[39mmodules \u001b[38;5;241m=\u001b[39m []\n\u001b[1;32m--> 340\u001b[0m     \u001b[38;5;28mself\u001b[39m\u001b[38;5;241m.\u001b[39m_load_modules()\n\u001b[0;32m    341\u001b[0m     \u001b[38;5;28mself\u001b[39m\u001b[38;5;241m.\u001b[39m_warn_if_incompatible_openmp()\n\u001b[0;32m    342\u001b[0m \u001b[38;5;28;01melse\u001b[39;00m:\n",
      "File \u001b[1;32m~\\anaconda3\\Lib\\site-packages\\threadpoolctl.py:373\u001b[0m, in \u001b[0;36m_ThreadpoolInfo._load_modules\u001b[1;34m(self)\u001b[0m\n\u001b[0;32m    371\u001b[0m     \u001b[38;5;28mself\u001b[39m\u001b[38;5;241m.\u001b[39m_find_modules_with_dyld()\n\u001b[0;32m    372\u001b[0m \u001b[38;5;28;01melif\u001b[39;00m sys\u001b[38;5;241m.\u001b[39mplatform \u001b[38;5;241m==\u001b[39m \u001b[38;5;124m\"\u001b[39m\u001b[38;5;124mwin32\u001b[39m\u001b[38;5;124m\"\u001b[39m:\n\u001b[1;32m--> 373\u001b[0m     \u001b[38;5;28mself\u001b[39m\u001b[38;5;241m.\u001b[39m_find_modules_with_enum_process_module_ex()\n\u001b[0;32m    374\u001b[0m \u001b[38;5;28;01melse\u001b[39;00m:\n\u001b[0;32m    375\u001b[0m     \u001b[38;5;28mself\u001b[39m\u001b[38;5;241m.\u001b[39m_find_modules_with_dl_iterate_phdr()\n",
      "File \u001b[1;32m~\\anaconda3\\Lib\\site-packages\\threadpoolctl.py:485\u001b[0m, in \u001b[0;36m_ThreadpoolInfo._find_modules_with_enum_process_module_ex\u001b[1;34m(self)\u001b[0m\n\u001b[0;32m    482\u001b[0m         filepath \u001b[38;5;241m=\u001b[39m buf\u001b[38;5;241m.\u001b[39mvalue\n\u001b[0;32m    484\u001b[0m         \u001b[38;5;66;03m# Store the module if it is supported and selected\u001b[39;00m\n\u001b[1;32m--> 485\u001b[0m         \u001b[38;5;28mself\u001b[39m\u001b[38;5;241m.\u001b[39m_make_module_from_path(filepath)\n\u001b[0;32m    486\u001b[0m \u001b[38;5;28;01mfinally\u001b[39;00m:\n\u001b[0;32m    487\u001b[0m     kernel_32\u001b[38;5;241m.\u001b[39mCloseHandle(h_process)\n",
      "File \u001b[1;32m~\\anaconda3\\Lib\\site-packages\\threadpoolctl.py:515\u001b[0m, in \u001b[0;36m_ThreadpoolInfo._make_module_from_path\u001b[1;34m(self, filepath)\u001b[0m\n\u001b[0;32m    513\u001b[0m \u001b[38;5;28;01mif\u001b[39;00m prefix \u001b[38;5;129;01min\u001b[39;00m \u001b[38;5;28mself\u001b[39m\u001b[38;5;241m.\u001b[39mprefixes \u001b[38;5;129;01mor\u001b[39;00m user_api \u001b[38;5;129;01min\u001b[39;00m \u001b[38;5;28mself\u001b[39m\u001b[38;5;241m.\u001b[39muser_api:\n\u001b[0;32m    514\u001b[0m     module_class \u001b[38;5;241m=\u001b[39m \u001b[38;5;28mglobals\u001b[39m()[module_class]\n\u001b[1;32m--> 515\u001b[0m     module \u001b[38;5;241m=\u001b[39m module_class(filepath, prefix, user_api, internal_api)\n\u001b[0;32m    516\u001b[0m     \u001b[38;5;28mself\u001b[39m\u001b[38;5;241m.\u001b[39mmodules\u001b[38;5;241m.\u001b[39mappend(module)\n",
      "File \u001b[1;32m~\\anaconda3\\Lib\\site-packages\\threadpoolctl.py:606\u001b[0m, in \u001b[0;36m_Module.__init__\u001b[1;34m(self, filepath, prefix, user_api, internal_api)\u001b[0m\n\u001b[0;32m    604\u001b[0m \u001b[38;5;28mself\u001b[39m\u001b[38;5;241m.\u001b[39minternal_api \u001b[38;5;241m=\u001b[39m internal_api\n\u001b[0;32m    605\u001b[0m \u001b[38;5;28mself\u001b[39m\u001b[38;5;241m.\u001b[39m_dynlib \u001b[38;5;241m=\u001b[39m ctypes\u001b[38;5;241m.\u001b[39mCDLL(filepath, mode\u001b[38;5;241m=\u001b[39m_RTLD_NOLOAD)\n\u001b[1;32m--> 606\u001b[0m \u001b[38;5;28mself\u001b[39m\u001b[38;5;241m.\u001b[39mversion \u001b[38;5;241m=\u001b[39m \u001b[38;5;28mself\u001b[39m\u001b[38;5;241m.\u001b[39mget_version()\n\u001b[0;32m    607\u001b[0m \u001b[38;5;28mself\u001b[39m\u001b[38;5;241m.\u001b[39mnum_threads \u001b[38;5;241m=\u001b[39m \u001b[38;5;28mself\u001b[39m\u001b[38;5;241m.\u001b[39mget_num_threads()\n\u001b[0;32m    608\u001b[0m \u001b[38;5;28mself\u001b[39m\u001b[38;5;241m.\u001b[39m_get_extra_info()\n",
      "File \u001b[1;32m~\\anaconda3\\Lib\\site-packages\\threadpoolctl.py:646\u001b[0m, in \u001b[0;36m_OpenBLASModule.get_version\u001b[1;34m(self)\u001b[0m\n\u001b[0;32m    643\u001b[0m get_config \u001b[38;5;241m=\u001b[39m \u001b[38;5;28mgetattr\u001b[39m(\u001b[38;5;28mself\u001b[39m\u001b[38;5;241m.\u001b[39m_dynlib, \u001b[38;5;124m\"\u001b[39m\u001b[38;5;124mopenblas_get_config\u001b[39m\u001b[38;5;124m\"\u001b[39m,\n\u001b[0;32m    644\u001b[0m                      \u001b[38;5;28;01mlambda\u001b[39;00m: \u001b[38;5;28;01mNone\u001b[39;00m)\n\u001b[0;32m    645\u001b[0m get_config\u001b[38;5;241m.\u001b[39mrestype \u001b[38;5;241m=\u001b[39m ctypes\u001b[38;5;241m.\u001b[39mc_char_p\n\u001b[1;32m--> 646\u001b[0m config \u001b[38;5;241m=\u001b[39m get_config()\u001b[38;5;241m.\u001b[39msplit()\n\u001b[0;32m    647\u001b[0m \u001b[38;5;28;01mif\u001b[39;00m config[\u001b[38;5;241m0\u001b[39m] \u001b[38;5;241m==\u001b[39m \u001b[38;5;124mb\u001b[39m\u001b[38;5;124m\"\u001b[39m\u001b[38;5;124mOpenBLAS\u001b[39m\u001b[38;5;124m\"\u001b[39m:\n\u001b[0;32m    648\u001b[0m     \u001b[38;5;28;01mreturn\u001b[39;00m config[\u001b[38;5;241m1\u001b[39m]\u001b[38;5;241m.\u001b[39mdecode(\u001b[38;5;124m\"\u001b[39m\u001b[38;5;124mutf-8\u001b[39m\u001b[38;5;124m\"\u001b[39m)\n",
      "\u001b[1;31mAttributeError\u001b[0m: 'NoneType' object has no attribute 'split'"
     ]
    }
   ],
   "source": [
    "df=df1\n",
    "df.fillna('Unknown', inplace=True)\n",
    "label_encoders = {}\n",
    "categorical_columns = ['type', 'title', 'director', 'cast', 'country', 'date_added', 'rating', 'duration', 'listed_in']\n",
    "for col in categorical_columns:\n",
    "    le = LabelEncoder()\n",
    "    df[col] = le.fit_transform(df[col].astype(str))  # Convert to string to avoid issues with None\n",
    "    label_encoders[col] = le\n",
    "kmeans = KMeans(n_clusters=3, random_state=42)\n",
    "df['cluster'] = kmeans.fit_predict(df[categorical_columns])\n",
    "print(\"K-means Clustering:\")\n",
    "print(df[['show_id', 'cluster']])\n",
    "X = df.drop(columns=['show_id', 'type', 'cluster'])\n",
    "y = df['type']\n",
    "X_train, X_test, y_train, y_test = train_test_split(X, y, test_size=0.3, random_state=42)\n",
    "clf = RandomForestClassifier(n_estimators=100, random_state=42)\n",
    "clf.fit(X_train, y_train)\n",
    "y_pred = clf.predict(X_test)\n",
    "accuracy = accuracy_score(y_test, y_pred)\n",
    "print(f\"Random Forest Classification Accuracy: {accuracy:.2f}\")\n",
    "df['predicted_type'] = clf.predict(X)\n",
    "print(\"\\nDataframe with Predicted Types:\")\n",
    "print(df[['show_id', 'type', 'predicted_type', 'cluster']])"
   ]
  },
  {
   "cell_type": "code",
   "execution_count": 25,
   "id": "91e53463-86f5-48aa-be63-9e476db45a93",
   "metadata": {},
   "outputs": [
    {
     "data": {
      "text/plain": [
       "<bound method DataFrame.info of       type  title  director  cast  country  date_added  rating  duration  \\\n",
       "0        0    755        69   790       85          52       5       100   \n",
       "1        0    388       336   945       38          52       0       108   \n",
       "2        0   1335       128    93       32          52       2       137   \n",
       "3        1    937       447   930       32          51       5        29   \n",
       "4        1    385       447     4       32          51       6         0   \n",
       "...    ...    ...       ...   ...      ...         ...     ...       ...   \n",
       "1363     0    518       471    86       32          38       0        91   \n",
       "1364     0    541       269   233       32          38       1       143   \n",
       "1365     1    861       447   627       32          58       7        41   \n",
       "1366     1    864       447   996       52          58       7        29   \n",
       "1367     1   1188       447  1116       32          58       6        41   \n",
       "\n",
       "      listed_in  \n",
       "0            83  \n",
       "1            32  \n",
       "2            58  \n",
       "3           226  \n",
       "4           258  \n",
       "...         ...  \n",
       "1363        112  \n",
       "1364        232  \n",
       "1365         41  \n",
       "1366        102  \n",
       "1367        149  \n",
       "\n",
       "[1368 rows x 9 columns]>"
      ]
     },
     "execution_count": 25,
     "metadata": {},
     "output_type": "execute_result"
    }
   ],
   "source": []
  },
  {
   "cell_type": "code",
   "execution_count": null,
   "id": "986af7a9-0015-4018-b073-95f7590929ec",
   "metadata": {},
   "outputs": [],
   "source": []
  },
  {
   "cell_type": "code",
   "execution_count": null,
   "id": "43cb9fb6-a6ea-4332-a992-cf0dace81ec5",
   "metadata": {},
   "outputs": [],
   "source": []
  },
  {
   "cell_type": "code",
   "execution_count": null,
   "id": "31643bbf-a02e-4b64-99dc-0d85e02503f6",
   "metadata": {},
   "outputs": [],
   "source": []
  }
 ],
 "metadata": {
  "kernelspec": {
   "display_name": "Python 3 (ipykernel)",
   "language": "python",
   "name": "python3"
  },
  "language_info": {
   "codemirror_mode": {
    "name": "ipython",
    "version": 3
   },
   "file_extension": ".py",
   "mimetype": "text/x-python",
   "name": "python",
   "nbconvert_exporter": "python",
   "pygments_lexer": "ipython3",
   "version": "3.11.7"
  }
 },
 "nbformat": 4,
 "nbformat_minor": 5
}
