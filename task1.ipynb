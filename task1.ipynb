{
 "cells": [
  {
   "cell_type": "code",
   "execution_count": 7,
   "id": "33a9aab4-92cf-40d9-a077-10e805fde783",
   "metadata": {},
   "outputs": [
    {
     "name": "stdout",
     "output_type": "stream",
     "text": [
      "[1, 2, 3, 4, 5]\n",
      "[1, 2, 4, 5, 6]\n",
      "<class 'list'>\n"
     ]
    }
   ],
   "source": [
    "my_list=[1,2,3,4,5]\n",
    "print(my_list)\n",
    "my_list.append(6)\n",
    "my_list.remove(3)\n",
    "print(my_list)\n",
    "print(type(my_list))"
   ]
  },
  {
   "cell_type": "code",
   "execution_count": 8,
   "id": "f97e0571-b6ad-4e03-b137-3a63ca9f1896",
   "metadata": {},
   "outputs": [
    {
     "name": "stdout",
     "output_type": "stream",
     "text": [
      "original dictionary : {'name': 'range rover', 'model': 'land rover', 'year': '1930', 'type': 'sport'}\n",
      "updated one: {'name': 'range rover', 'model': 'land rover', 'year': 1940}\n",
      "<class 'dict'>\n"
     ]
    }
   ],
   "source": [
    "my_dict={\n",
    "    'name':'range rover',\n",
    "    'model':'land rover',\n",
    "    'year':'1930',\n",
    "    'type':'sport'\n",
    "}\n",
    "print(\"original dictionary :\",my_dict)\n",
    "my_dict['year']=1940\n",
    "del my_dict['type']\n",
    "print(\"updated one:\",my_dict)\n",
    "print(type(my_dict))"
   ]
  },
  {
   "cell_type": "code",
   "execution_count": 9,
   "id": "290cd7fa-00b3-4e08-b5ec-dc0faf9a5266",
   "metadata": {},
   "outputs": [
    {
     "name": "stdout",
     "output_type": "stream",
     "text": [
      "6\n",
      "<class 'set'>\n"
     ]
    }
   ],
   "source": [
    "my_set={1,2,5,6,7,8}\n",
    "print(len(my_set))\n",
    "print(type(my_set))"
   ]
  }
 ],
 "metadata": {
  "kernelspec": {
   "display_name": "Python 3 (ipykernel)",
   "language": "python",
   "name": "python3"
  },
  "language_info": {
   "codemirror_mode": {
    "name": "ipython",
    "version": 3
   },
   "file_extension": ".py",
   "mimetype": "text/x-python",
   "name": "python",
   "nbconvert_exporter": "python",
   "pygments_lexer": "ipython3",
   "version": "3.11.7"
  }
 },
 "nbformat": 4,
 "nbformat_minor": 5
}
